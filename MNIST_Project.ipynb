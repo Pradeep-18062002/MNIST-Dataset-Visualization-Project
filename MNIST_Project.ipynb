{
  "nbformat": 4,
  "nbformat_minor": 0,
  "metadata": {
    "colab": {
      "provenance": []
    },
    "kernelspec": {
      "name": "python3",
      "display_name": "Python 3"
    },
    "language_info": {
      "name": "python"
    }
  },
  "cells": [
    {
      "cell_type": "code",
      "source": [
        "# 1 a\n",
        "import matplotlib.pyplot as plt\n",
        "from sklearn.datasets import fetch_openml\n",
        "import numpy as np\n",
        "\n",
        "# Here we are loading the MNIST Dataset\n",
        "mnist = fetch_openml('mnist_784', version=1)\n",
        "Xraw, Yraw = mnist['data'], mnist['target']\n",
        "\n",
        "# Here we are conerting to integers as they are in string format\n",
        "Yraw = Yraw.astype(np.int8)\n",
        "\n",
        "\n",
        "\n",
        "fig, axs = plt.subplots(2, 5, figsize=(10, 5))\n",
        "axs = axs.ravel()  # Flatten the axes array for easier indexing\n",
        "\n",
        "# Here Iterate through digits 0 to 9 and plot one random example for each\n",
        "for digit in range(10):\n",
        "    # Find all indices where the current digit is present\n",
        "    digit_where = np.where(Yraw == digit)[0]\n",
        "\n",
        "    # Randomly select one index\n",
        "    random_index = np.random.choice(digit_where)\n",
        "\n",
        "    # Access data using .iloc[] to ensure consistent indexing between Xraw and Yraw\n",
        "    image = Xraw.iloc[random_index].values.reshape(28, 28)\n",
        "\n",
        "    # Plot the image\n",
        "    axs[digit].imshow(image, cmap='gray')\n",
        "    axs[digit].set_title(f\"Digit: {digit}\")\n",
        "    axs[digit].axis('off')\n",
        "\n",
        "plt.tight_layout()\n",
        "plt.show()"
      ],
      "metadata": {
        "colab": {
          "base_uri": "https://localhost:8080/",
          "height": 473
        },
        "id": "bITPasPaR-8-",
        "outputId": "9ea5e50f-4fbf-455a-a82d-1a47a225bb21"
      },
      "execution_count": null,
      "outputs": [
        {
          "output_type": "display_data",
          "data": {
            "text/plain": [
              "<Figure size 1000x500 with 10 Axes>"
            ],
            "image/png": "[encoded data removed]"
          },
          "metadata": {}
        }
      ]
    },
    {
      "cell_type": "code",
      "source": [
        "# 1 b\n",
        "import numpy as np\n",
        "from sklearn.datasets import fetch_openml\n",
        "from sklearn.preprocessing import OneHotEncoder\n",
        "\n",
        "# Load the MNIST dataset\n",
        "mnist = fetch_openml('mnist_784', version=1)\n",
        "Xraw, Yraw = mnist['data'], mnist['target']\n",
        "\n",
        "# Convert the labels to integers\n",
        "Yraw = Yraw.astype(np.int8)\n",
        "\n",
        "# Set the dimension for the random feature extractor\n",
        "d = 10\n",
        "\n",
        "# Create a random feature extractor matrix M\n",
        "# Entries are drawn from a uniform distribution and normalized\n",
        "M = np.random.uniform(0, 1, (d, 784)) / (255 * d)\n",
        "\n",
        "# Project the raw features into a lower-dimensional space\n",
        "X_projected = M @ Xraw.T  # Shape will be (d, 70,000)\n",
        "\n",
        "# One-hot encode the labels\n",
        "one_hot_encoder = OneHotEncoder(sparse_output=False, categories='auto')\n",
        "Y_one_hot = one_hot_encoder.fit_transform(Yraw.values.reshape(-1, 1)).T  # Shape will be (10, 70,000)\n",
        "\n",
        "# Calculate the Moore-Penrose pseudoinverse to find the best weights\n",
        "X_pseudo_inv = np.linalg.pinv(X_projected.T)  # Shape will be (70,000, d)\n",
        "W = X_pseudo_inv @ Y_one_hot.T  # W will be of shape (d, 10)\n",
        "\n",
        "# Print the shape of the weight matrix\n",
        "print(\"Shape of weight matrix W:\", W.shape)  # Should be (300, 10)\n"
      ],
      "metadata": {
        "colab": {
          "base_uri": "https://localhost:8080/"
        },
        "id": "6A76V6fGsn7T",
        "outputId": "01a247d3-9e7d-4b37-d7c1-d7cd67fcea40"
      },
      "execution_count": null,
      "outputs": [
        {
          "output_type": "stream",
          "name": "stdout",
          "text": [
            "Shape of weight matrix W: (10, 10)\n"
          ]
        }
      ]
    },
    {
      "cell_type": "code",
      "source": [
        "# 1 c\n",
        "import numpy as np\n",
        "from sklearn.datasets import fetch_openml\n",
        "from sklearn.preprocessing import OneHotEncoder\n",
        "from sklearn.metrics import mean_squared_error\n",
        "\n",
        "# Load the MNIST dataset\n",
        "mnist = fetch_openml('mnist_784', version=1)\n",
        "Xraw, Yraw = mnist['data'], mnist['target']\n",
        "Yraw = Yraw.astype(np.int8)\n",
        "\n",
        "# One-hot encode the labels\n",
        "one_hot_encoder = OneHotEncoder(sparse_output=False, categories='auto')\n",
        "values = Yraw.values\n",
        "reshaped_values = values.reshape(-1, 1)\n",
        "Y_one_hot = one_hot_encoder.fit_transform(reshaped_values).T\n",
        "\n",
        "# Function to calculate MSE and mistakes for different values of d\n",
        "def compute_metrics(d):\n",
        "    M = np.random.uniform(0, 1, (d, 784)) / (255 * d)\n",
        "    X_projected = M @ Xraw.T\n",
        "    X_pseudo_inv = np.linalg.pinv(X_projected.T)\n",
        "    W = X_pseudo_inv @ Y_one_hot.T\n",
        "    Y_pred = W.T @ X_projected\n",
        "    mse = mean_squared_error(Y_one_hot.T, Y_pred.T)\n",
        "\n",
        "    predicted_labels = np.argmax(Y_pred, axis=0)\n",
        "    true_labels = np.argmax(Y_one_hot, axis=0)\n",
        "    mistakes = np.sum(predicted_labels != true_labels)\n",
        "\n",
        "    return mse, mistakes\n",
        "\n",
        "# Set the values of d to test\n",
        "d_values = [10, 50, 100, 200, 500]\n",
        "\n",
        "# Dictionary to store results for each d\n",
        "results = {}\n",
        "\n",
        "# Compute the metrics for each value of d\n",
        "for d in d_values:\n",
        "    mse, mistakes = compute_metrics(d)\n",
        "    results[d] = {'MSE': mse, 'Mistakes': mistakes}\n",
        "\n",
        "# Print the results separately for each value of d\n",
        "for d, metrics in results.items():\n",
        "    print(f\"Results for d = {d}:\")\n",
        "    print(f\"MSE: {metrics['MSE']:.6f}\")\n",
        "    print(f\"Mistakes: {metrics['Mistakes']}\")\n",
        "    print(\"---------------\")\n",
        "\n",
        "# Calculate and print random guessing baseline\n",
        "random_guessing_mistakes = 70000 * (9 / 10)  # If we guess randomly, we are wrong 9/10 times\n",
        "print(f\"Random guessing mistakes (baseline): {random_guessing_mistakes}\")\n"
      ],
      "metadata": {
        "colab": {
          "base_uri": "https://localhost:8080/"
        },
        "id": "vyHJkQ7zwZEB",
        "outputId": "f184eb90-5b1f-48b8-c09a-a74519dd8089"
      },
      "execution_count": null,
      "outputs": [
        {
          "output_type": "stream",
          "name": "stdout",
          "text": [
            "Results for d = 10:\n",
            "MSE: 0.074273\n",
            "Mistakes: 34659\n",
            "---------------\n",
            "Results for d = 50:\n",
            "MSE: 0.053615\n",
            "Mistakes: 15704\n",
            "---------------\n",
            "Results for d = 100:\n",
            "MSE: 0.046504\n",
            "Mistakes: 12457\n",
            "---------------\n",
            "Results for d = 200:\n",
            "MSE: 0.042234\n",
            "Mistakes: 10916\n",
            "---------------\n",
            "Results for d = 500:\n",
            "MSE: 0.039402\n",
            "Mistakes: 10380\n",
            "---------------\n",
            "Random guessing mistakes (baseline): 63000.0\n"
          ]
        }
      ]
    },
    {
      "cell_type": "code",
      "source": [
        "# 1 d\n",
        "import numpy as np\n",
        "from sklearn.datasets import fetch_openml\n",
        "from sklearn.preprocessing import OneHotEncoder\n",
        "from sklearn.metrics import mean_squared_error\n",
        "import matplotlib.pyplot as plt\n",
        "import pandas as pd\n",
        "\n",
        "# Load the MNIST dataset\n",
        "mnist = fetch_openml('mnist_784', version=1)\n",
        "Xraw, Yraw = mnist['data'], mnist['target']\n",
        "Yraw = Yraw.astype(np.int8)\n",
        "\n",
        "# One-hot encode the labels\n",
        "one_hot_encoder = OneHotEncoder(sparse_output=False, categories='auto')\n",
        "Y_one_hot = one_hot_encoder.fit_transform(Yraw.values.reshape(-1, 1)).T\n",
        "\n",
        "# Create a random feature extractor (M matrix)\n",
        "def create_random_feature_extractor(d):\n",
        "    M = np.random.uniform(0, 1, (d, 784)) / (255 * d)\n",
        "    return M\n",
        "\n",
        "# Project the original dataset into a lower-dimensional space\n",
        "def project_features(M, Xraw):\n",
        "    X_projected = M @ Xraw.T\n",
        "    return X_projected\n",
        "\n",
        "# LMS algorithm to update weights and minimize error\n",
        "def lms_algorithm(X_projected, Y_one_hot, d, eta, epochs):\n",
        "    n_samples = X_projected.shape[1]\n",
        "    W = np.zeros((d, 10))  # Initialize weights matrix\n",
        "    mse_history = []\n",
        "\n",
        "    if isinstance(X_projected, pd.DataFrame):\n",
        "        X_projected = X_projected.values\n",
        "\n",
        "    for epoch in range(epochs):\n",
        "        for i in range(n_samples):\n",
        "            x_i = X_projected[:, i]  # Feature vector for each sample\n",
        "            y_i = Y_one_hot[:, i]    # One-hot encoded true label\n",
        "\n",
        "            # Make predictions and update weights\n",
        "            y_pred = W.T @ x_i\n",
        "            W += eta * np.outer(x_i, (y_i - y_pred))\n",
        "\n",
        "        # Calculate the mean squared error after each epoch\n",
        "        Y_pred = W.T @ X_projected\n",
        "        mse = mean_squared_error(Y_one_hot.T, Y_pred.T)\n",
        "        mse_history.append(mse)\n",
        "\n",
        "    return W, mse_history\n",
        "\n",
        "# Function to compute the number of mistakes (classification errors)\n",
        "def compute_mistakes(Y_pred, Y_one_hot):\n",
        "    predicted_labels = np.argmax(Y_pred, axis=0)  # Predicted labels\n",
        "    true_labels = np.argmax(Y_one_hot, axis=0)    # Actual labels\n",
        "    mistakes = np.sum(predicted_labels != true_labels)\n",
        "    return mistakes\n",
        "\n",
        "# Set parameters\n",
        "d = 100  # Number of dimensions to reduce to\n",
        "eta = 0.001  # Learning rate for weight updates\n",
        "epochs = 10  # Number of training iterations\n",
        "\n",
        "# Generate random feature extractor\n",
        "M = create_random_feature_extractor(d)\n",
        "\n",
        "# Project the original data using M\n",
        "X_projected = project_features(M, Xraw)\n",
        "\n",
        "# Run the LMS algorithm and track MSE across epochs\n",
        "W_lms, mse_history = lms_algorithm(X_projected, Y_one_hot, d, eta, epochs)\n",
        "\n",
        "# Plot MSE over epochs\n",
        "plt.plot(range(1, epochs + 1), mse_history, marker='o', color='red')\n",
        "plt.title('MSE vs Number of Epochs')\n",
        "plt.xlabel('Epochs')\n",
        "plt.ylabel('MSE')\n",
        "plt.show()\n"
      ],
      "metadata": {
        "colab": {
          "base_uri": "https://localhost:8080/",
          "height": 472
        },
        "id": "SLWtvqrN-1_u",
        "outputId": "605aab76-f9b0-4c0a-df95-77463aa4fbe0"
      },
      "execution_count": null,
      "outputs": [
        {
          "output_type": "display_data",
          "data": {
            "text/plain": [
              "<Figure size 640x480 with 1 Axes>"
            ],
            "image/png": "[encoded data removed]"
          },
          "metadata": {}
        }
      ]
    }
  ]
}